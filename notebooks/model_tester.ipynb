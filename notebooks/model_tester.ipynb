{
 "cells": [
  {
   "metadata": {
    "ExecuteTime": {
     "end_time": "2025-02-21T16:32:22.051179Z",
     "start_time": "2025-02-21T16:32:22.048443Z"
    }
   },
   "cell_type": "code",
   "source": "from ultralytics import YOLO",
   "id": "eff20fa0f3a055ff",
   "outputs": [],
   "execution_count": 8
  },
  {
   "metadata": {
    "ExecuteTime": {
     "end_time": "2025-02-21T16:34:11.434070Z",
     "start_time": "2025-02-21T16:34:11.410154Z"
    }
   },
   "cell_type": "code",
   "source": [
    "# Load model\n",
    "model = YOLO(\"/Users/langtowl/PycharmProjects/gunshot-detection/src/best.pt\")"
   ],
   "id": "c01892a60afeeee",
   "outputs": [],
   "execution_count": 14
  },
  {
   "metadata": {
    "ExecuteTime": {
     "end_time": "2025-02-21T16:37:05.977942Z",
     "start_time": "2025-02-21T16:37:05.975951Z"
    }
   },
   "cell_type": "code",
   "source": [
    "# Load test files\n",
    "path_gs = \"/Users/langtowl/PycharmProjects/gunshot-detection/data/data/valid/images/gunshot_0_0_png.rf.23f6589426f6f444f25354662447dc23.jpg\"\n",
    "\n",
    "path_ngs = \"/Users/langtowl/PycharmProjects/gunshot-detection/data/data/train/images/not-gunshot_1051_6_png.rf.dca2edb9168e5245a927987e0fa39ac7.jpg\""
   ],
   "id": "1f093219b2afe011",
   "outputs": [],
   "execution_count": 17
  },
  {
   "metadata": {
    "ExecuteTime": {
     "end_time": "2025-02-21T16:37:08.088990Z",
     "start_time": "2025-02-21T16:37:08.019893Z"
    }
   },
   "cell_type": "code",
   "source": [
    "# Make inference\n",
    "model.predict(path_ngs, save = True, save_dir = \"../data/detections\", verbose = False)"
   ],
   "id": "62cc5b6497932d0e",
   "outputs": [
    {
     "name": "stdout",
     "output_type": "stream",
     "text": [
      "Results saved to \u001B[1mruns/detect/predict\u001B[0m\n"
     ]
    },
    {
     "data": {
      "text/plain": [
       "[ultralytics.engine.results.Results object with attributes:\n",
       " \n",
       " boxes: ultralytics.engine.results.Boxes object\n",
       " keypoints: None\n",
       " masks: None\n",
       " names: {0: 'gunshot'}\n",
       " obb: None\n",
       " orig_img: array([[[4, 0, 0],\n",
       "         [4, 0, 0],\n",
       "         [4, 0, 0],\n",
       "         ...,\n",
       "         [4, 0, 0],\n",
       "         [4, 0, 0],\n",
       "         [4, 0, 0]],\n",
       " \n",
       "        [[4, 0, 0],\n",
       "         [4, 0, 0],\n",
       "         [4, 0, 0],\n",
       "         ...,\n",
       "         [4, 0, 0],\n",
       "         [4, 0, 0],\n",
       "         [4, 0, 0]],\n",
       " \n",
       "        [[4, 0, 0],\n",
       "         [4, 0, 0],\n",
       "         [4, 0, 0],\n",
       "         ...,\n",
       "         [4, 0, 0],\n",
       "         [4, 0, 0],\n",
       "         [4, 0, 0]],\n",
       " \n",
       "        ...,\n",
       " \n",
       "        [[4, 0, 0],\n",
       "         [4, 0, 0],\n",
       "         [4, 0, 0],\n",
       "         ...,\n",
       "         [4, 0, 0],\n",
       "         [4, 0, 0],\n",
       "         [4, 0, 0]],\n",
       " \n",
       "        [[4, 0, 0],\n",
       "         [4, 0, 0],\n",
       "         [4, 0, 0],\n",
       "         ...,\n",
       "         [4, 0, 0],\n",
       "         [4, 0, 0],\n",
       "         [4, 0, 0]],\n",
       " \n",
       "        [[4, 0, 0],\n",
       "         [4, 0, 0],\n",
       "         [4, 0, 0],\n",
       "         ...,\n",
       "         [4, 0, 0],\n",
       "         [4, 0, 0],\n",
       "         [4, 0, 0]]], dtype=uint8)\n",
       " orig_shape: (256, 256)\n",
       " path: '/Users/langtowl/PycharmProjects/gunshot-detection/data/data/train/images/not-gunshot_1051_6_png.rf.dca2edb9168e5245a927987e0fa39ac7.jpg'\n",
       " probs: None\n",
       " save_dir: 'runs/detect/predict'\n",
       " speed: {'preprocess': 2.974271774291992, 'inference': 57.9073429107666, 'postprocess': 0.3552436828613281}]"
      ]
     },
     "execution_count": 18,
     "metadata": {},
     "output_type": "execute_result"
    }
   ],
   "execution_count": 18
  }
 ],
 "metadata": {
  "kernelspec": {
   "display_name": "Python 3",
   "language": "python",
   "name": "python3"
  },
  "language_info": {
   "codemirror_mode": {
    "name": "ipython",
    "version": 2
   },
   "file_extension": ".py",
   "mimetype": "text/x-python",
   "name": "python",
   "nbconvert_exporter": "python",
   "pygments_lexer": "ipython2",
   "version": "2.7.6"
  }
 },
 "nbformat": 4,
 "nbformat_minor": 5
}
