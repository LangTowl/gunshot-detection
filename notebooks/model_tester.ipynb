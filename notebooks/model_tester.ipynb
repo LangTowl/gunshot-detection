{
 "cells": [
  {
   "metadata": {
    "ExecuteTime": {
     "end_time": "2025-02-23T14:23:14.360397Z",
     "start_time": "2025-02-23T14:23:14.350803Z"
    }
   },
   "cell_type": "code",
   "source": "from ultralytics import YOLO",
   "id": "eff20fa0f3a055ff",
   "outputs": [],
   "execution_count": 29
  },
  {
   "metadata": {
    "ExecuteTime": {
     "end_time": "2025-02-23T14:23:16.160264Z",
     "start_time": "2025-02-23T14:23:16.106909Z"
    }
   },
   "cell_type": "code",
   "source": [
    "# Load model\n",
    "model = YOLO(\"/Users/langtowl/PycharmProjects/gunshot-detection/notebooks/runs/detect/train/weights/best.pt\")"
   ],
   "id": "c01892a60afeeee",
   "outputs": [],
   "execution_count": 30
  },
  {
   "metadata": {
    "ExecuteTime": {
     "end_time": "2025-02-23T14:25:48.310414Z",
     "start_time": "2025-02-23T14:25:48.307260Z"
    }
   },
   "cell_type": "code",
   "source": [
    "# Load test files\n",
    "path_gs = \"/Users/langtowl/PycharmProjects/gunshot-detection/data/data/train/images/gunshot_11_png.rf.a89db30ad16e079d0dacf3a0d6e0cab6.jpg\"\n",
    "\n",
    "path_ngs = \"/Users/langtowl/PycharmProjects/gunshot-detection/data/data/train/images/not-gunshot_1013_0_png.rf.f354e41427861a14757bc779d3afe334.jpg\""
   ],
   "id": "1f093219b2afe011",
   "outputs": [],
   "execution_count": 42
  },
  {
   "metadata": {
    "ExecuteTime": {
     "end_time": "2025-02-23T14:25:58.872660Z",
     "start_time": "2025-02-23T14:25:58.800968Z"
    }
   },
   "cell_type": "code",
   "source": [
    "# Make inference\n",
    "prediction = model.predict(path_gs, save = True, save_dir = \"../data/detections\", verbose = False)"
   ],
   "id": "62cc5b6497932d0e",
   "outputs": [
    {
     "name": "stdout",
     "output_type": "stream",
     "text": [
      "Results saved to \u001B[1mruns/detect/predict3\u001B[0m\n"
     ]
    }
   ],
   "execution_count": 43
  },
  {
   "metadata": {
    "ExecuteTime": {
     "end_time": "2025-02-23T14:26:01.037612Z",
     "start_time": "2025-02-23T14:26:01.035490Z"
    }
   },
   "cell_type": "code",
   "source": "print(prediction[0].boxes.shape[0])",
   "id": "fba2838b227d0682",
   "outputs": [
    {
     "name": "stdout",
     "output_type": "stream",
     "text": [
      "2\n"
     ]
    }
   ],
   "execution_count": 44
  },
  {
   "metadata": {
    "ExecuteTime": {
     "end_time": "2025-02-23T14:30:02.715730Z",
     "start_time": "2025-02-23T14:30:02.712025Z"
    }
   },
   "cell_type": "code",
   "source": "print(prediction[0].boxes.conf)",
   "id": "bc79a71c651ad7b3",
   "outputs": [
    {
     "name": "stdout",
     "output_type": "stream",
     "text": [
      "tensor([0.6856, 0.6789])\n"
     ]
    }
   ],
   "execution_count": 48
  },
  {
   "metadata": {},
   "cell_type": "code",
   "outputs": [],
   "execution_count": null,
   "source": "",
   "id": "30eb6de4d1ed04c6"
  }
 ],
 "metadata": {
  "kernelspec": {
   "display_name": "Python 3",
   "language": "python",
   "name": "python3"
  },
  "language_info": {
   "codemirror_mode": {
    "name": "ipython",
    "version": 2
   },
   "file_extension": ".py",
   "mimetype": "text/x-python",
   "name": "python",
   "nbconvert_exporter": "python",
   "pygments_lexer": "ipython2",
   "version": "2.7.6"
  }
 },
 "nbformat": 4,
 "nbformat_minor": 5
}
