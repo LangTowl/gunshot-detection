{
 "cells": [
  {
   "cell_type": "code",
   "id": "initial_id",
   "metadata": {
    "collapsed": true,
    "ExecuteTime": {
     "end_time": "2025-01-13T18:05:12.011810Z",
     "start_time": "2025-01-13T18:05:12.008553Z"
    }
   },
   "source": [
    "import numpy as np\n",
    "from keras import models\n",
    "from PIL import Image"
   ],
   "outputs": [],
   "execution_count": 17
  },
  {
   "metadata": {
    "ExecuteTime": {
     "end_time": "2025-01-13T18:05:12.025163Z",
     "start_time": "2025-01-13T18:05:12.022388Z"
    }
   },
   "cell_type": "code",
   "source": [
    "def classify_spectrogram(model, image_path):\n",
    "    # Load and preprocess the spectrogram\n",
    "    img = Image.open(image_path).convert(\"RGB\")\n",
    "    img = img.resize((128, 128))\n",
    "    image_array = np.array(img) / 255.0\n",
    "    img_array = np.expand_dims(image_array, axis=0)\n",
    "\n",
    "    # Make a prediction\n",
    "    prediction = model.predict(img_array)[0]\n",
    "\n",
    "    # Determine classification\n",
    "    return \"Gunshot\" if prediction > 0.5 else \"Non-Gunshot\""
   ],
   "id": "f4713e5805764cc3",
   "outputs": [],
   "execution_count": 18
  },
  {
   "metadata": {
    "ExecuteTime": {
     "end_time": "2025-01-13T18:05:12.033451Z",
     "start_time": "2025-01-13T18:05:12.031510Z"
    }
   },
   "cell_type": "code",
   "source": [
    "# Paths to the model and a single spectrogram image\n",
    "model_path_local = \"../models/trained_model_1_Jan_12_2025.h5\"\n",
    "spectrogram_path_local = \"../data/processed/not-gunshot/not_gunshot_0.png\""
   ],
   "id": "86bcf795adcb37be",
   "outputs": [],
   "execution_count": 19
  },
  {
   "metadata": {
    "ExecuteTime": {
     "end_time": "2025-01-13T18:05:12.090046Z",
     "start_time": "2025-01-13T18:05:12.038275Z"
    }
   },
   "cell_type": "code",
   "source": [
    "# Load model in non-compile mode\n",
    "model_load = models.load_model(model_path_local, compile=False)"
   ],
   "id": "ab2cbad001632129",
   "outputs": [],
   "execution_count": 20
  },
  {
   "metadata": {
    "ExecuteTime": {
     "end_time": "2025-01-13T18:05:12.154659Z",
     "start_time": "2025-01-13T18:05:12.094979Z"
    }
   },
   "cell_type": "code",
   "source": [
    "# Classify the spectrogram\n",
    "result = classify_spectrogram(model_load, spectrogram_path_local)\n",
    "print(f\"The spectrogram is classified as: {result}\")"
   ],
   "id": "35a8994642af945e",
   "outputs": [
    {
     "name": "stdout",
     "output_type": "stream",
     "text": [
      "\u001B[1m1/1\u001B[0m \u001B[32m━━━━━━━━━━━━━━━━━━━━\u001B[0m\u001B[37m\u001B[0m \u001B[1m0s\u001B[0m 35ms/step\n",
      "The spectrogram is classified as: Non-Gunshot\n"
     ]
    }
   ],
   "execution_count": 21
  }
 ],
 "metadata": {
  "kernelspec": {
   "display_name": "Python 3",
   "language": "python",
   "name": "python3"
  },
  "language_info": {
   "codemirror_mode": {
    "name": "ipython",
    "version": 2
   },
   "file_extension": ".py",
   "mimetype": "text/x-python",
   "name": "python",
   "nbconvert_exporter": "python",
   "pygments_lexer": "ipython2",
   "version": "2.7.6"
  }
 },
 "nbformat": 4,
 "nbformat_minor": 5
}
