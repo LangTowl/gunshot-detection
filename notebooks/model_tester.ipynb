{
 "cells": [
  {
   "cell_type": "code",
   "id": "initial_id",
   "metadata": {
    "collapsed": true,
    "ExecuteTime": {
     "end_time": "2025-01-13T13:15:18.241440Z",
     "start_time": "2025-01-13T13:15:18.235837Z"
    }
   },
   "source": [
    "import os\n",
    "import numpy as np\n",
    "from keras import models\n",
    "from PIL import Image"
   ],
   "outputs": [],
   "execution_count": 3
  },
  {
   "metadata": {
    "ExecuteTime": {
     "end_time": "2025-01-13T13:38:15.494202Z",
     "start_time": "2025-01-13T13:38:15.488141Z"
    }
   },
   "cell_type": "code",
   "source": [
    "def classify_spectrogram(model, image_path):\n",
    "    # Load and preprocess the spectrogram\n",
    "    img = Image.open(image_path).convert(\"RGB\")\n",
    "    img = img.resize((128, 128))\n",
    "    image_array = np.array(img) / 255.0\n",
    "    img_array = np.expand_dims(image_array, axis=0)\n",
    "\n",
    "    # Make a prediction\n",
    "    prediction = model.predict(img_array)[0]\n",
    "\n",
    "    # Determine classification\n",
    "    return \"Gunshot\" if prediction > 0.5 else \"Non-Gunshot\""
   ],
   "id": "f4713e5805764cc3",
   "outputs": [],
   "execution_count": 32
  },
  {
   "metadata": {
    "ExecuteTime": {
     "end_time": "2025-01-13T13:38:36.343312Z",
     "start_time": "2025-01-13T13:38:36.340758Z"
    }
   },
   "cell_type": "code",
   "source": [
    "# Paths to the model and a single spectrogram image\n",
    "model_path_local = \"../models/trained_model_1_Jan_12_2025.h5\"\n",
    "spectrogram_path_local = \"../data/processed/gunshot/gunshot_2.png\""
   ],
   "id": "86bcf795adcb37be",
   "outputs": [],
   "execution_count": 36
  },
  {
   "metadata": {},
   "cell_type": "code",
   "outputs": [],
   "execution_count": null,
   "source": [
    "# Load model in non-compile mode\n",
    "model_load = models.load_model(model_path_local, compile=False)"
   ],
   "id": "ab2cbad001632129"
  },
  {
   "metadata": {
    "ExecuteTime": {
     "end_time": "2025-01-13T13:38:42.440009Z",
     "start_time": "2025-01-13T13:38:42.345506Z"
    }
   },
   "cell_type": "code",
   "source": [
    "# Classify the spectrogram\n",
    "result = classify_spectrogram(model_load, spectrogram_path_local)\n",
    "print(f\"The spectrogram is classified as: {result}\")"
   ],
   "id": "35a8994642af945e",
   "outputs": [
    {
     "name": "stdout",
     "output_type": "stream",
     "text": [
      "\u001B[1m1/1\u001B[0m \u001B[32m━━━━━━━━━━━━━━━━━━━━\u001B[0m\u001B[37m\u001B[0m \u001B[1m0s\u001B[0m 34ms/step\n",
      "The spectrogram is classified as: Gunshot\n"
     ]
    }
   ],
   "execution_count": 37
  }
 ],
 "metadata": {
  "kernelspec": {
   "display_name": "Python 3",
   "language": "python",
   "name": "python3"
  },
  "language_info": {
   "codemirror_mode": {
    "name": "ipython",
    "version": 2
   },
   "file_extension": ".py",
   "mimetype": "text/x-python",
   "name": "python",
   "nbconvert_exporter": "python",
   "pygments_lexer": "ipython2",
   "version": "2.7.6"
  }
 },
 "nbformat": 4,
 "nbformat_minor": 5
}
