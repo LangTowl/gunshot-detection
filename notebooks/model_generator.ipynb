{
 "cells": [
  {
   "metadata": {
    "ExecuteTime": {
     "end_time": "2025-01-19T16:37:47.124802Z",
     "start_time": "2025-01-19T16:37:47.121766Z"
    }
   },
   "cell_type": "code",
   "source": [
    "import os\n",
    "import io\n",
    "import librosa\n",
    "import numpy as np\n",
    "from PIL import Image\n",
    "import matplotlib.pyplot as plt\n",
    "\n",
    "from keras import layers\n",
    "from keras import models\n",
    "from keras import Input\n",
    "from sklearn.model_selection import train_test_split"
   ],
   "id": "c4fb003e35793f16",
   "outputs": [],
   "execution_count": 18
  },
  {
   "metadata": {
    "ExecuteTime": {
     "end_time": "2025-01-19T16:37:47.137274Z",
     "start_time": "2025-01-19T16:37:47.134811Z"
    }
   },
   "cell_type": "code",
   "source": [
    "# Paths to data\n",
    "gunshot_path = \"../data/preprocessed/gunshot\"\n",
    "non_gunshot_path = \"../data/preprocessed/not-gunshot\"\n",
    "\n",
    "# Verify that paths exists\n",
    "print(os.path.exists(gunshot_path))\n",
    "print(os.path.exists(non_gunshot_path))"
   ],
   "id": "ab1497560f0f8d7b",
   "outputs": [
    {
     "name": "stdout",
     "output_type": "stream",
     "text": [
      "True\n",
      "True\n"
     ]
    }
   ],
   "execution_count": 19
  },
  {
   "metadata": {
    "ExecuteTime": {
     "end_time": "2025-01-19T16:37:47.887854Z",
     "start_time": "2025-01-19T16:37:47.843814Z"
    }
   },
   "cell_type": "code",
   "source": [
    "model = models.Sequential()\n",
    "\n",
    "# -> (256, 256, 3)\n",
    "model.add(Input(shape=(256, 256, 3)))\n",
    "\n",
    "# (256, 256, 3) -> (254, 254, 32)\n",
    "model.add(layers.Conv2D(32, (3, 3), activation='relu'))\n",
    "\n",
    "# (254, 254, 32) -> (127, 127, 32)\n",
    "model.add(layers.MaxPooling2D((2, 2)))\n",
    "\n",
    "# (127, 127, 32) -> (125, 125, 64)\n",
    "model.add(layers.Conv2D(64, (3, 3), activation='relu'))\n",
    "\n",
    "# (125, 125, 64) -> (62, 62, 64)\n",
    "model.add(layers.MaxPooling2D((2, 2)))\n",
    "\n",
    "# (62, 62, 64) -> (60, 60, 128)\n",
    "model.add(layers.Conv2D(128, (3, 3), activation='relu'))\n",
    "\n",
    "# (30, 30, 128)\n",
    "model.add(layers.MaxPooling2D((2, 2)))\n",
    "\n",
    "# (30, 30, 128) -> 115,200\n",
    "model.add(layers.Flatten())\n",
    "\n",
    "# 115,200 -> 512\n",
    "model.add(layers.Dense(512, activation='relu'))\n",
    "\n",
    "# 512 -> 256\n",
    "model.add(layers.Dense(256, activation='relu'))\n",
    "\n",
    "# 256 -> 1\n",
    "model.add(layers.Dense(1, activation='sigmoid'))\n"
   ],
   "id": "fcb00f2a2cd4c468",
   "outputs": [],
   "execution_count": 27
  },
  {
   "metadata": {
    "ExecuteTime": {
     "end_time": "2025-01-19T16:37:47.901015Z",
     "start_time": "2025-01-19T16:37:47.896373Z"
    }
   },
   "cell_type": "code",
   "source": [
    "# Compile the model:\n",
    "# Optimizer -> adam\n",
    "# loss function -> binary_crossentropy\n",
    "model.compile(optimizer='adam', loss='binary_crossentropy', metrics=['accuracy'])"
   ],
   "id": "b69e88f947ee5e7a",
   "outputs": [],
   "execution_count": 28
  },
  {
   "metadata": {
    "ExecuteTime": {
     "end_time": "2025-01-19T16:37:49.274633Z",
     "start_time": "2025-01-19T16:37:49.226933Z"
    }
   },
   "cell_type": "code",
   "source": [
    "# Save model\n",
    "model_name = \"test_model\"\n",
    "model.save(f'../models/{model_name}.h5')"
   ],
   "id": "ce72b190f1ccce25",
   "outputs": [
    {
     "name": "stderr",
     "output_type": "stream",
     "text": [
      "WARNING:absl:You are saving your model as an HDF5 file via `model.save()` or `keras.saving.save_model(model)`. This file format is considered legacy. We recommend using instead the native Keras format, e.g. `model.save('my_model.keras')` or `keras.saving.save_model(model, 'my_model.keras')`. \n"
     ]
    }
   ],
   "execution_count": 31
  }
 ],
 "metadata": {
  "kernelspec": {
   "display_name": "Python (base)",
   "language": "python",
   "name": "base"
  },
  "language_info": {
   "codemirror_mode": {
    "name": "ipython",
    "version": 2
   },
   "file_extension": ".py",
   "mimetype": "text/x-python",
   "name": "python",
   "nbconvert_exporter": "python",
   "pygments_lexer": "ipython2",
   "version": "2.7.6"
  }
 },
 "nbformat": 4,
 "nbformat_minor": 5
}
