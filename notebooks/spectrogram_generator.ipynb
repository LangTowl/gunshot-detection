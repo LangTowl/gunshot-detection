{
 "cells": [
  {
   "metadata": {},
   "cell_type": "markdown",
   "source": [
    "#### *Spectrograms*\n",
    "Spectrograms are a visual representation of an audio sample, where the x axis represents time, the y axis represents frequency, and the color intensity indicates the amplitude or power of the signal at each frequency and time.\n",
    "\n",
    "Spectrograms are typically generated using a digital signal processing technique called **Short Time Fourier Transforms** (STFT). In essence, STFTs output the Fourier Coefficients for the $k^{\\text{th}}$ frequency at the $m^{\\text{th}}$ temporal frame. This coefficient is represented as a complex number composed of both phase and magnitude.\n",
    "\n",
    "#### *Short Time Fourier Transform Formula*\n",
    "$$\n",
    "S(m,k)=\\sum_{n=0}^{N-1}x(n+mH)\\cdot w(n)\\cdot e^{-i2\\pi n\\frac{k}{N}}\n",
    "$$\n",
    "-  $k=$ proxy for frequency *(also measured in # of frequency bins)*\n",
    "- $m=$ proxy for time *(also measures frame number or # of frames)*\n",
    "- $N=$ all samples contained in frame size $\\equiv$  frame size\n",
    "- $x(n+mH)=$ all samples contained in current frame\n",
    "\t- $mH=$ starting sample of current frame\n",
    "- $w(n)=$ windowing function\n",
    "- $e^{\\dfrac{-j2\\pi n k}{N}}=$ is a pure tone whose frequency is given by $\\dfrac{k}{N}$\n",
    "\t- essentially projects a windowed sample onto pure tone\n",
    "#### *Windowing*\n",
    "Windowing is the method in which the segments of the original audio signal are procured.\n",
    "\n",
    "$$\n",
    "x_w(k)=x(k)\\cdot w(k)\n",
    "$$\n",
    "- $x_w(k)=$ windowed signal\n",
    "- $x(k)=$ original signal\n",
    "- $w(k)=$ windowing function\n",
    "Bell shaped windowing functions are most commonly used, typically the **Hann Window**.\n",
    "\n",
    "$$\n",
    "w(k)=0.5\\cdot(1-\\cos(\\dfrac{2\\pi k}{K-1})),~k=1...K\n",
    "$$\n",
    "#### *Windowing Hop Size*\n",
    "The windowing hop size indicates the gap between each window applied to the original function. Similar to the step size in a sliding window algorithm. Can also be represented as ratios related to the frame size.\n",
    "#### *Frequency Bins*\n",
    "In the context of the Fast Fourier Transform (FFT), _frequency bins_ are specific intervals in the frequency domain that correspond to ranges of frequencies captured by the FFT of a signal. Each bin holds the amplitude (and sometimes the phase) of a certain frequency range from the original time-domain signal.\n",
    "$$\n",
    "\\text{\\# of Frequency bins}=\\frac{\\text{frame size}}{2}+1\n",
    "$$\n",
    "**Note:**\n",
    "- This is what the output of the `np.fft.ffreaq` produces\n",
    "- These frequency bins hold frequencies 0 and the sampling rate divided by 2, AKA. they Nyquist range\n",
    "#### *Frames*\n",
    "$$\n",
    "\\text{\\# of Frames}=\\frac{\\text{samples}-\\text{frame size}}{\\text{hop size}} + 1\n",
    "$$\n",
    "#### *Audio Visualization*\n",
    "From the STFT shown above, containing complex Fourier coefficients, we can take the square of the STFT magnitude to generate a matrix with the same dimensions, but now with real numbers which can now be plotted in a heat map, AKA, a spectrogram.\n",
    "$$\n",
    "Y(m,k)=|S(m,k)|^2\n",
    "$$\n"
   ],
   "id": "90826c2bf4ad785d"
  },
  {
   "cell_type": "code",
   "id": "initial_id",
   "metadata": {
    "collapsed": true,
    "ExecuteTime": {
     "end_time": "2025-01-13T13:14:06.786119Z",
     "start_time": "2025-01-13T13:14:06.781025Z"
    }
   },
   "source": [
    "import os\n",
    "import librosa\n",
    "import librosa.display\n",
    "import numpy as np\n",
    "import matplotlib.pyplot as plt\n",
    "\n",
    "# Numpy 2.0.0 or less is required by Numba\n",
    "print(np.__version__)"
   ],
   "outputs": [
    {
     "name": "stdout",
     "output_type": "stream",
     "text": [
      "2.0.2\n"
     ]
    }
   ],
   "execution_count": 6
  },
  {
   "metadata": {
    "ExecuteTime": {
     "end_time": "2025-01-13T13:14:06.870022Z",
     "start_time": "2025-01-13T13:14:06.867951Z"
    }
   },
   "cell_type": "code",
   "source": [
    "# Define source and destination paths\n",
    "input_dir = '../data/preprocessed/not-gunshot'\n",
    "output_dir = '../data/processed/not-gunshot'\n",
    "file_prefix = 'not_gunshot_'"
   ],
   "id": "8682a0fdca098751",
   "outputs": [],
   "execution_count": 7
  },
  {
   "metadata": {
    "ExecuteTime": {
     "end_time": "2025-01-13T13:14:06.881309Z",
     "start_time": "2025-01-13T13:14:06.879120Z"
    }
   },
   "cell_type": "code",
   "source": [
    "# Set sample rate\n",
    "SAMPLE_RATE = 16000\n",
    "\n",
    "# Set frame size (samples)\n",
    "FRAME_SIZE = 2048\n",
    "\n",
    "# Set hop size (samples)\n",
    "HOP_SIZE = 128\n",
    "\n",
    "# Sliding window segment length (2 seconds)\n",
    "SEGMENT_LENGTH = SAMPLE_RATE * 2\n",
    "\n",
    "# Segment hop distance (50% hop distance)\n",
    "SEGMENT_HOP = SEGMENT_LENGTH // 2"
   ],
   "id": "1442d59719ce50a9",
   "outputs": [],
   "execution_count": 8
  },
  {
   "metadata": {
    "ExecuteTime": {
     "end_time": "2025-01-13T13:14:06.901900Z",
     "start_time": "2025-01-13T13:14:06.899008Z"
    }
   },
   "cell_type": "code",
   "source": [
    "def spectrogram_generator(src = '', dst = '', file_num = 0):\n",
    "    # Pull audio data and sample rate from audio file\n",
    "    data, _ = librosa.load(src, sr = SAMPLE_RATE)\n",
    "\n",
    "    # Compute Short-Time Fourier Transforms\n",
    "    stft = librosa.core.stft(data, n_fft = FRAME_SIZE, hop_length = HOP_SIZE)\n",
    "\n",
    "    # Take the real part of the stft\n",
    "    stft = np.abs(stft) ** 2\n",
    "\n",
    "    # Compute the log-amplitude of the frequency spectrum\n",
    "    stft_db = librosa.amplitude_to_db(stft)\n",
    "\n",
    "    # Plot spectrogram and save as an image\n",
    "    plt.figure(figsize=(10, 4))\n",
    "    plt.axis('off')\n",
    "    librosa.display.specshow(\n",
    "        stft_db,\n",
    "        sr = SAMPLE_RATE,\n",
    "        hop_length = HOP_SIZE,\n",
    "        x_axis = 'time',\n",
    "        y_axis = 'log',\n",
    "        cmap = 'magma'\n",
    "    )\n",
    "\n",
    "    # Create output file path\n",
    "    output_path = os.path.join(dst, f\"{file_prefix}{file_num}.png\")\n",
    "    plt.savefig(output_path, bbox_inches='tight', pad_inches=0, transparent=True)\n",
    "    plt.close()\n",
    "\n",
    "    print(f\"Generated spectrogram for {src} and saved to {output_path}\")"
   ],
   "id": "fe5a12cf44be4287",
   "outputs": [],
   "execution_count": 9
  },
  {
   "metadata": {
    "ExecuteTime": {
     "end_time": "2025-01-13T13:14:07.317772Z",
     "start_time": "2025-01-13T13:14:06.906487Z"
    }
   },
   "cell_type": "code",
   "source": [
    "# Process all .wav files in the input directory\n",
    "count = len(os.listdir(output_dir))\n",
    "for file in os.listdir(input_dir):\n",
    "    if file.endswith(\".wav\"):\n",
    "        file_path = os.path.join(input_dir, file)\n",
    "        spectrogram_generator(file_path, output_dir, file_num = count)\n",
    "        count += 1"
   ],
   "id": "aae5971ecfaef566",
   "outputs": [
    {
     "name": "stdout",
     "output_type": "stream",
     "text": [
      "Generated spectrogram for ../data/preprocessed/not-gunshot/not_gunshot_0_1.wav and saved to ../data/processed/not-gunshot/not_gunshot_0.png\n",
      "Generated spectrogram for ../data/preprocessed/not-gunshot/not_gunshot_0_0.wav and saved to ../data/processed/not-gunshot/not_gunshot_1.png\n",
      "Generated spectrogram for ../data/preprocessed/not-gunshot/not_gunshot_0_2.wav and saved to ../data/processed/not-gunshot/not_gunshot_2.png\n"
     ]
    }
   ],
   "execution_count": 10
  }
 ],
 "metadata": {
  "kernelspec": {
   "display_name": "Python 3",
   "language": "python",
   "name": "python3"
  },
  "language_info": {
   "codemirror_mode": {
    "name": "ipython",
    "version": 2
   },
   "file_extension": ".py",
   "mimetype": "text/x-python",
   "name": "python",
   "nbconvert_exporter": "python",
   "pygments_lexer": "ipython2",
   "version": "2.7.6"
  }
 },
 "nbformat": 4,
 "nbformat_minor": 5
}
