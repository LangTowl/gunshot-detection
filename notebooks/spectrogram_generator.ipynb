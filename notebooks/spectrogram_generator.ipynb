{
 "cells": [
  {
   "cell_type": "code",
   "id": "initial_id",
   "metadata": {
    "collapsed": true,
    "ExecuteTime": {
     "end_time": "2025-02-10T13:36:24.292740Z",
     "start_time": "2025-02-10T13:36:23.970418Z"
    }
   },
   "source": [
    "import librosa\n",
    "import numpy as np\n",
    "from PIL import Image\n",
    "import librosa.display\n",
    "from librosa import feature\n",
    "import matplotlib.pyplot as plt"
   ],
   "outputs": [],
   "execution_count": 1
  },
  {
   "metadata": {
    "ExecuteTime": {
     "end_time": "2025-02-10T13:36:24.301152Z",
     "start_time": "2025-02-10T13:36:24.299275Z"
    }
   },
   "cell_type": "code",
   "source": [
    "# Define source and destination paths\n",
    "input_dir = '../data/preprocessed/not-gunshot'\n",
    "output_dir = '../data/processed/not-gunshot'\n",
    "file_prefix = 'not_gunshot_'"
   ],
   "id": "8682a0fdca098751",
   "outputs": [],
   "execution_count": 2
  },
  {
   "metadata": {
    "ExecuteTime": {
     "end_time": "2025-02-10T13:36:24.306423Z",
     "start_time": "2025-02-10T13:36:24.304408Z"
    }
   },
   "cell_type": "code",
   "source": [
    "SAMPLE_RATE = 16000\n",
    "FRAME_SIZE = 2048\n",
    "HOP_SIZE = FRAME_SIZE // 4\n",
    "SEGMENT_LENGTH = SAMPLE_RATE * 2\n",
    "SEGMENT_HOP = SEGMENT_LENGTH // 2"
   ],
   "id": "1442d59719ce50a9",
   "outputs": [],
   "execution_count": 3
  },
  {
   "metadata": {
    "ExecuteTime": {
     "end_time": "2025-02-10T13:36:24.311567Z",
     "start_time": "2025-02-10T13:36:24.309743Z"
    }
   },
   "cell_type": "code",
   "source": [
    "test_path_1_g = '../data/preprocessed/gunshot/gunshot_0.wav'\n",
    "test_path_2_g = '../data/preprocessed/gunshot/gunshot_1.wav'\n",
    "test_path_3_g = '../data/preprocessed/gunshot/gunshot_2.wav'\n",
    "\n",
    "test_path_4_ng = '../data/preprocessed/not-gunshot/not_gunshot_0_0.wav'\n",
    "test_path_5_ng = '../data/preprocessed/not-gunshot/not_gunshot_1_0.wav'\n",
    "test_path_6_ng = '../data/preprocessed/not-gunshot/not_gunshot_2_0.wav'\n",
    "test_path_7_ng = '../data/preprocessed/not-gunshot/not_gunshot_3_0.wav'"
   ],
   "id": "5c50bc52391fae2b",
   "outputs": [],
   "execution_count": 4
  },
  {
   "metadata": {
    "ExecuteTime": {
     "end_time": "2025-02-10T13:36:24.319319Z",
     "start_time": "2025-02-10T13:36:24.314861Z"
    }
   },
   "cell_type": "code",
   "source": [
    "def mel_spectrogram_generator(path, sr = 16000, duration = 2.0, n_fft = 2560, hop_length = 128, n_mels = 512, fmin = 4000, fmax = 8000, power = 2.0, figsize = (5,5), target_shape = (256, 256), show = False, save = False):\n",
    "    # Load audio data from path\n",
    "    data, sr = librosa.load(path, sr = sr, duration = duration)\n",
    "\n",
    "    # Compute spectrogram\n",
    "    spectrogram = librosa.feature.melspectrogram(\n",
    "        y = data,\n",
    "        sr = sr,\n",
    "        n_fft = n_fft,\n",
    "        hop_length = hop_length,\n",
    "        n_mels = n_mels,\n",
    "        fmin = fmin,\n",
    "        fmax = fmax,\n",
    "        power = power\n",
    "    )\n",
    "\n",
    "    # Convert to decibel\n",
    "    spectrogram_decibel = librosa.power_to_db(spectrogram)\n",
    "\n",
    "    # Open and configure plot\n",
    "    fig, ax = plt.subplots(figsize=figsize, dpi=100)\n",
    "    ax.set_position([0, 0, 1, 1])\n",
    "    ax.set_frame_on(False)\n",
    "    ax.set_xticklabels([])\n",
    "    ax.set_yticklabels([])\n",
    "    fig.patch.set_alpha(0)\n",
    "    ax.set_xticks([])\n",
    "    ax.set_yticks([])\n",
    "    plt.ioff()\n",
    "\n",
    "    # Plot spectrogram\n",
    "    librosa.display.specshow(\n",
    "        spectrogram_decibel,\n",
    "        sr = sr,\n",
    "        hop_length = hop_length,\n",
    "        x_axis = \"time\",\n",
    "        y_axis = \"mel\",\n",
    "        fmin = fmin,\n",
    "        fmax = fmax,\n",
    "        vmin = -20,\n",
    "        vmax = 10,\n",
    "        cmap = 'magma'\n",
    "    )\n",
    "\n",
    "    # Copy spectrogram graph to image, then delete graph\n",
    "    fig.canvas.draw()\n",
    "    image = Image.frombytes('RGB', fig.canvas.get_width_height(), fig.canvas.tostring_rgb())\n",
    "    plt.close(fig)\n",
    "\n",
    "    # When True: Image of spectrogram is saved to cwd\n",
    "    if save:\n",
    "        image.save(\"spectrogram.png\")\n",
    "\n",
    "    # When False: Return numpy array for CNN input\n",
    "    if not show:\n",
    "        # Resize image to CNN input layer\n",
    "        image = image.resize(target_shape)\n",
    "\n",
    "        # Convert to array\n",
    "        image_array = np.array(image)\n",
    "\n",
    "        # Normalize [0, 1]\n",
    "        image_array = image_array.astype(np.float32) / 255.0\n",
    "\n",
    "        return image_array\n",
    "\n",
    "    # When True: Print spectrogram to console\n",
    "    else:\n",
    "        image.show()"
   ],
   "id": "b23b28f0b184a8b4",
   "outputs": [],
   "execution_count": 5
  },
  {
   "metadata": {
    "ExecuteTime": {
     "end_time": "2025-02-10T13:37:41.550032Z",
     "start_time": "2025-02-10T13:37:41.429766Z"
    }
   },
   "cell_type": "code",
   "source": "spec =  mel_spectrogram_generator(test_path_2_g)",
   "id": "706d33b300c7e095",
   "outputs": [
    {
     "name": "stderr",
     "output_type": "stream",
     "text": [
      "/var/folders/bd/gcjm_l21715dj3pty72qkkr80000gn/T/ipykernel_20791/3272432526.py:47: MatplotlibDeprecationWarning: The tostring_rgb function was deprecated in Matplotlib 3.8 and will be removed in 3.10. Use buffer_rgba instead.\n",
      "  image = Image.frombytes('RGB', fig.canvas.get_width_height(), fig.canvas.tostring_rgb())\n"
     ]
    }
   ],
   "execution_count": 11
  },
  {
   "metadata": {
    "ExecuteTime": {
     "end_time": "2025-02-10T13:41:39.034506Z",
     "start_time": "2025-02-10T13:41:39.032401Z"
    }
   },
   "cell_type": "code",
   "source": [
    "print(spec.shape)\n",
    "print(spec[255][0])"
   ],
   "id": "d3d04a5b40f3e586",
   "outputs": [
    {
     "name": "stdout",
     "output_type": "stream",
     "text": [
      "(256, 256, 3)\n",
      "[0.5921569 0.1764706 0.5019608]\n"
     ]
    }
   ],
   "execution_count": 21
  }
 ],
 "metadata": {
  "kernelspec": {
   "display_name": "Python 3",
   "language": "python",
   "name": "python3"
  },
  "language_info": {
   "codemirror_mode": {
    "name": "ipython",
    "version": 2
   },
   "file_extension": ".py",
   "mimetype": "text/x-python",
   "name": "python",
   "nbconvert_exporter": "python",
   "pygments_lexer": "ipython2",
   "version": "2.7.6"
  }
 },
 "nbformat": 4,
 "nbformat_minor": 5
}
