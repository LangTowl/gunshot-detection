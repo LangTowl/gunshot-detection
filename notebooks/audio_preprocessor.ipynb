{
 "cells": [
  {
   "cell_type": "code",
   "id": "initial_id",
   "metadata": {
    "collapsed": true,
    "ExecuteTime": {
     "end_time": "2024-12-24T19:11:23.397219Z",
     "start_time": "2024-12-24T19:11:23.394691Z"
    }
   },
   "source": [
    "import os\n",
    "import librosa\n",
    "import soundfile as sf\n",
    "import numpy\n",
    "\n",
    "# Numpy 2.0.0 or less is required by Numba\n",
    "print(numpy.__version__)"
   ],
   "outputs": [
    {
     "name": "stdout",
     "output_type": "stream",
     "text": [
      "2.0.0\n"
     ]
    }
   ],
   "execution_count": 15
  },
  {
   "metadata": {
    "ExecuteTime": {
     "end_time": "2024-12-24T19:11:24.810868Z",
     "start_time": "2024-12-24T19:11:24.808410Z"
    }
   },
   "cell_type": "code",
   "source": [
    "# Define source and destination paths\n",
    "input_dir = '../data/raw/gunshot'\n",
    "output_dir = '../data/preprocessed/gunshot'\n",
    "file_prefix = 'gunshot_'"
   ],
   "id": "ec6b9c6404344a6e",
   "outputs": [],
   "execution_count": 16
  },
  {
   "metadata": {
    "ExecuteTime": {
     "end_time": "2024-12-24T19:22:24.345335Z",
     "start_time": "2024-12-24T19:22:24.340409Z"
    }
   },
   "cell_type": "code",
   "source": [
    "def preprocess_wav(src = '', dst = '', target_sr = 16000, file_num = 0):\n",
    "    # Load file from file path, set sample rate to 16,000 HZ\n",
    "    data, sr = librosa.load(src, sr = target_sr)\n",
    "\n",
    "    # Ensure `data` is a NumPy array\n",
    "    if not isinstance(data, (list, tuple)):\n",
    "        data = data.astype(float)\n",
    "\n",
    "    # Extract duration of the .wav file (dependent on sample rate)\n",
    "    duration = librosa.get_duration(y = data, sr = target_sr)\n",
    "\n",
    "    try:\n",
    "        # Code to run if .wav is 2 seconds long\n",
    "        if duration == 2.0:\n",
    "            # Save new audio sample: 16,000 Hz, 2 seconds\n",
    "            output_path = os.path.join(dst, f\"{file_prefix}{file_num}.wav\")\n",
    "            sf.write(output_path, data, target_sr)\n",
    "\n",
    "        # Code to run if .wav is 2 seconds long\n",
    "        elif duration == 4.0:\n",
    "            # Segmentation into 3 2 second chunks\n",
    "            segments = [\n",
    "                (0, int(target_sr * 2)),                    # First 2 seconds: 0 -> 2\n",
    "                (int(target_sr * 1), int(target_sr * 3)),   # Middle 2 seconds 1 -> 3\n",
    "                (int(target_sr * 2), int(target_sr * 4))    # Last 2 seconds: 2 -> 4\n",
    "            ]\n",
    "\n",
    "            # Generate new .wav for each sound sample\n",
    "            for i, (start, end) in enumerate(segments):\n",
    "                # Convert start and end to integers explicitly\n",
    "                start, end = int(start), int(end)\n",
    "\n",
    "                audio_segment = data[start:end]\n",
    "                output_path = os.path.join(dst, f\"{file_prefix}{file_num}.wav\")\n",
    "                sf.write(output_path, audio_segment, target_sr)\n",
    "\n",
    "        # TODO: Potentially add edge case that can except files of other durations\n",
    "        else:\n",
    "            print(f\"Skipping file {src} due to unexpected duration.\")\n",
    "\n",
    "        print(f\"Processed file {src} and saved to {os.path.join(dst, f\"{file_prefix}{file_num}.wav\")}\")\n",
    "    except Exception as error:\n",
    "        print(f\"Error processing file {src}: {error}\")"
   ],
   "id": "9efc5844e32e8e52",
   "outputs": [],
   "execution_count": 22
  },
  {
   "metadata": {
    "ExecuteTime": {
     "end_time": "2024-12-24T19:22:47.111153Z",
     "start_time": "2024-12-24T19:22:47.097491Z"
    }
   },
   "cell_type": "code",
   "source": [
    "count = 0\n",
    "\n",
    "# Process all .wavs in input directory\n",
    "for file in os.listdir(input_dir):\n",
    "    if file.endswith(\".wav\"):\n",
    "        file_path = os.path.join(input_dir, file)\n",
    "        preprocess_wav(file_path, output_dir)\n",
    "        count += 1\n",
    "\n",
    "print(f\"Processed {count} files.\")"
   ],
   "id": "9e88c40fc9eb48a3",
   "outputs": [
    {
     "name": "stdout",
     "output_type": "stream",
     "text": [
      "Processed file ../data/raw/gunshot/Urban Sound 8k (3).wav and saved to ../data/preprocessed/gunshot/gunshot_0.wav\n",
      "Processed 1 files.\n"
     ]
    }
   ],
   "execution_count": 23
  }
 ],
 "metadata": {
  "kernelspec": {
   "display_name": "Python 3",
   "language": "python",
   "name": "python3"
  },
  "language_info": {
   "codemirror_mode": {
    "name": "ipython",
    "version": 2
   },
   "file_extension": ".py",
   "mimetype": "text/x-python",
   "name": "python",
   "nbconvert_exporter": "python",
   "pygments_lexer": "ipython2",
   "version": "2.7.6"
  }
 },
 "nbformat": 4,
 "nbformat_minor": 5
}
