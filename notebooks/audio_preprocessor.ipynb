{
 "cells": [
  {
   "cell_type": "code",
   "id": "initial_id",
   "metadata": {
    "collapsed": true,
    "ExecuteTime": {
     "end_time": "2025-02-08T22:53:52.976844Z",
     "start_time": "2025-02-08T22:53:52.858147Z"
    }
   },
   "source": [
    "import os\n",
    "import librosa\n",
    "import soundfile as sf\n",
    "import numpy\n",
    "print(numpy.__version__)"
   ],
   "outputs": [
    {
     "name": "stdout",
     "output_type": "stream",
     "text": [
      "1.26.4\n"
     ]
    }
   ],
   "execution_count": 1
  },
  {
   "metadata": {
    "ExecuteTime": {
     "end_time": "2025-02-08T22:53:53.091831Z",
     "start_time": "2025-02-08T22:53:53.086265Z"
    }
   },
   "cell_type": "code",
   "source": [
    "# Define source and destination paths\n",
    "input_dir = '../data/raw/gunshot'\n",
    "output_dir = '../data/preprocessed/gunshot'\n",
    "file_prefix = 'gunshot_'"
   ],
   "id": "ec6b9c6404344a6e",
   "outputs": [],
   "execution_count": 2
  },
  {
   "metadata": {
    "ExecuteTime": {
     "end_time": "2025-02-08T22:53:53.198385Z",
     "start_time": "2025-02-08T22:53:53.194906Z"
    }
   },
   "cell_type": "code",
   "source": [
    "def preprocess_wav(src = '', dst = '', target_sr = 16000, file_num = 0):\n",
    "    # Load file from file path, set sample rate to 16,000 HZ\n",
    "    data, sr = librosa.load(src, sr = target_sr)\n",
    "\n",
    "    # Ensure `data` is a NumPy array\n",
    "    if not isinstance(data, (list, tuple)):\n",
    "        data = data.astype(float)\n",
    "\n",
    "    # Extract duration of the .wav file (dependent on sample rate)\n",
    "    duration = librosa.get_duration(y = data, sr = target_sr)\n",
    "\n",
    "    try:\n",
    "        # Code to run if .wav is 2 seconds long\n",
    "        if duration == 2.0:\n",
    "            # Save new audio sample: 16,000 Hz, 2 seconds\n",
    "            output_path = os.path.join(dst, f\"{file_prefix}{file_num}.wav\")\n",
    "            sf.write(output_path, data, target_sr)\n",
    "\n",
    "            print(f\"Processed file {src} and saved to {os.path.join(dst, f\"{file_prefix}{file_num}.wav\")}\")\n",
    "\n",
    "        # Code to run if .wav is gr then 2 seconds long\n",
    "        elif duration > 2.0:\n",
    "            # Array to store audio segment partitions\n",
    "            segments = []\n",
    "            for i in range(0, int(duration) - 1, 1):\n",
    "\n",
    "                # Only append data that is 2 seconds in duration\n",
    "                if i + 2 <= int(duration):\n",
    "                    segments.append((int(target_sr * i), int(target_sr * (i + 2))))\n",
    "\n",
    "            # Generate new .wav for each sound sample\n",
    "            for i, (start, end) in enumerate(segments):\n",
    "                # Convert start and end to integers explicitly\n",
    "                start, end = int(start), int(end)\n",
    "\n",
    "                audio_segment = data[start:end]\n",
    "                output_path = os.path.join(dst, f\"{file_prefix}{file_num}_{i}.wav\")\n",
    "                sf.write(output_path, audio_segment, target_sr)\n",
    "\n",
    "                print(f\"Processed file {src} and saved to {os.path.join(dst, f\"{file_prefix}{file_num}_{i}.wav\")}\")\n",
    "        else:\n",
    "            print(f\"Skipping file {src} due to unexpected duration.\")\n",
    "    except Exception as error:\n",
    "        print(f\"Error processing file {src}: {error}\")"
   ],
   "id": "9efc5844e32e8e52",
   "outputs": [],
   "execution_count": 3
  },
  {
   "metadata": {
    "ExecuteTime": {
     "end_time": "2025-02-08T23:07:20.482793Z",
     "start_time": "2025-02-08T23:07:20.464620Z"
    }
   },
   "cell_type": "code",
   "source": [
    "count = 0\n",
    "\n",
    "# Process all .wavs in input directory\n",
    "for file in os.listdir(input_dir):\n",
    "    if file.endswith(\".wav\"):\n",
    "        file_path = os.path.join(input_dir, file)\n",
    "        preprocess_wav(src = file_path, dst = output_dir, file_num = count)\n",
    "        count += 1\n",
    "\n",
    "print(f\"Processed {count} files.\")"
   ],
   "id": "9e88c40fc9eb48a3",
   "outputs": [
    {
     "name": "stdout",
     "output_type": "stream",
     "text": [
      "Processed file ../data/raw/gunshot/Gunshot Audio 3.wav and saved to ../data/preprocessed/gunshot/gunshot_0.wav\n",
      "Processed file ../data/raw/gunshot/Gunshot Audio 31.wav and saved to ../data/preprocessed/gunshot/gunshot_1.wav\n",
      "Processed file ../data/raw/gunshot/Gunshot Audio 24.wav and saved to ../data/preprocessed/gunshot/gunshot_2.wav\n",
      "Processed 3 files.\n"
     ]
    }
   ],
   "execution_count": 5
  }
 ],
 "metadata": {
  "kernelspec": {
   "display_name": "Python 3 (ipykernel)",
   "language": "python",
   "name": "python3"
  },
  "language_info": {
   "codemirror_mode": {
    "name": "ipython",
    "version": 2
   },
   "file_extension": ".py",
   "mimetype": "text/x-python",
   "name": "python",
   "nbconvert_exporter": "python",
   "pygments_lexer": "ipython2",
   "version": "2.7.6"
  }
 },
 "nbformat": 4,
 "nbformat_minor": 5
}
